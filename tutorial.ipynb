{
 "cells": [
  {
   "cell_type": "markdown",
   "metadata": {},
   "source": [
    "# LIT Dataset Python Library - Tutorial\n",
    "### By Filipe Chagas\n",
    "\n",
    "LIT is a voltage and current dataset for household utensils designed at UTFPR University, in the state of Paraná (Brazil). For more information, visit the official page (https://pessoal.dainf.ct.utfpr.edu.br/douglasrenaux/LIT_Dataset/) or the README of this repository. I have no connection with the research project team that designed this dataset, but I created this small library to facilitate the use of the Python dataset.\n",
    "\n",
    "This notebook will serve as a guide for using this library. Remember that the code in the *lit.py* file has docstrings in the non-internal functions, and you can consult them.\n",
    "\n",
    "## First step - import\n",
    "It is important that the *lit.py* file and the *LIT_Dataset* directory are at the same root as the file that will import this library. Otherwise, there will be problems with the library's internal paths."
   ]
  },
  {
   "cell_type": "code",
   "execution_count": 1,
   "metadata": {},
   "outputs": [],
   "source": [
    "import matplotlib.pyplot as plt\n",
    "import lit"
   ]
  },
  {
   "cell_type": "markdown",
   "metadata": {},
   "source": [
    "## Shortnames\n",
    "In the LIT dataset, each load has a shortname such that '1A0', '2A0B0', etc. These shortnames are structured as follows:\n",
    "\n",
    "N + \\[A-Z\\]0 + \\[A-Z\\]0 + ...\n",
    "\n",
    "Where:\n",
    "* N is the quantity of appliances in the load\n",
    "* Each \"\\[A-Z\\]0\" expression is the shortname of one appliance in the load \n",
    "\n",
    "For example: \"2A0B0\" is a load that have two appliances that are identified as \"A0\" and \"B0\". For information such as type of appliance, brand and power of shortnames such as \"A0\" and \"B0\", see the website (https://pessoal.dainf.ct.utfpr.edu.br/douglasrenaux/LIT_Dataset/Subsets/Synthetic/index.html) or the *appliances.xlsx* spreadsheet.\n",
    "\n",
    "### Listing shortnames\n",
    "You can use the **list_loads** function to get a list with all load shortnames with a specific quantity of appliances.\n",
    "\n",
    "You must specify the lit subset in the *subset* parameter and the number of appliances in the *n_appliances* parameter."
   ]
  },
  {
   "cell_type": "code",
   "execution_count": 2,
   "metadata": {},
   "outputs": [
    {
     "data": {
      "text/plain": [
       "['1A0',\n",
       " '1B0',\n",
       " '1C0',\n",
       " '1D0',\n",
       " '1E0',\n",
       " '1F0',\n",
       " '1G0',\n",
       " '1H0',\n",
       " '1I0',\n",
       " '1J0',\n",
       " '1K0',\n",
       " '1L0',\n",
       " '1M0',\n",
       " '1N0',\n",
       " '1O0',\n",
       " '1P0',\n",
       " '1Q0',\n",
       " '1R0',\n",
       " '1S0',\n",
       " '1T0',\n",
       " '1U0',\n",
       " '1V0',\n",
       " '1W0',\n",
       " '1X0',\n",
       " '1Y0',\n",
       " '1Z0']"
      ]
     },
     "execution_count": 2,
     "metadata": {},
     "output_type": "execute_result"
    }
   ],
   "source": [
    "#List load shortnames of SYNTHETIC subset with only one appliance\n",
    "lit.list_loads(subset=lit.Subset.SYNTHETIC, n_appliances=1) "
   ]
  },
  {
   "cell_type": "code",
   "execution_count": 3,
   "metadata": {},
   "outputs": [
    {
     "data": {
      "text/plain": [
       "['2L0H0',\n",
       " '2A0B0',\n",
       " '2A0H0',\n",
       " '2A0L0',\n",
       " '2A0M0',\n",
       " '2A0N0',\n",
       " '2A0Q0',\n",
       " '2B0A0',\n",
       " '2B0H0',\n",
       " '2B0L0',\n",
       " '2B0M0',\n",
       " '2B0N0',\n",
       " '2B0Q0',\n",
       " '2H0A0',\n",
       " '2H0B0',\n",
       " '2H0L0',\n",
       " '2H0M0',\n",
       " '2H0N0',\n",
       " '2H0Q0',\n",
       " '2L0A0',\n",
       " '2L0B0',\n",
       " '2L0M0',\n",
       " '2L0N0',\n",
       " '2L0Q0',\n",
       " '2M0A0',\n",
       " '2M0B0',\n",
       " '2M0H0',\n",
       " '2M0L0',\n",
       " '2M0N0',\n",
       " '2M0Q0',\n",
       " '2N0A0',\n",
       " '2N0B0',\n",
       " '2N0H0',\n",
       " '2N0L0',\n",
       " '2N0M0',\n",
       " '2N0Q0',\n",
       " '2Q0A0',\n",
       " '2Q0B0',\n",
       " '2Q0H0',\n",
       " '2Q0L0',\n",
       " '2Q0M0',\n",
       " '2Q0N0']"
      ]
     },
     "execution_count": 3,
     "metadata": {},
     "output_type": "execute_result"
    }
   ],
   "source": [
    "#List load shortnames of SYNTHETIC subset with 2 appliances\n",
    "lit.list_loads(subset=lit.Subset.SYNTHETIC, n_appliances=2)"
   ]
  },
  {
   "cell_type": "code",
   "execution_count": 4,
   "metadata": {},
   "outputs": [
    {
     "data": {
      "text/plain": [
       "['3B0K0D0',\n",
       " '3D0Q0I0',\n",
       " '3D0Q0N0',\n",
       " '3D0Y0S0',\n",
       " '3E0N0Q0',\n",
       " '3H0P0W0',\n",
       " '3M0R0W0',\n",
       " '3M0R0X0',\n",
       " '3M0W0I0',\n",
       " '3N0S0I0',\n",
       " '3P0U0Z0',\n",
       " '3P0Z0H0',\n",
       " '3Q0K0B0',\n",
       " '3Q0X0E0',\n",
       " '3R0E0S0',\n",
       " '3S0E0Y0',\n",
       " '3S0I0Y0',\n",
       " '3T0Q0N0',\n",
       " '3T0V0M0',\n",
       " '3U0N0Z0',\n",
       " '3U0R0Y0',\n",
       " '3U0T0H0',\n",
       " '3V0D0M0',\n",
       " '3V0H0X0',\n",
       " '3V0M0Q0',\n",
       " '3W0E0H0',\n",
       " '3W0E0T0',\n",
       " '3W0I0Z0',\n",
       " '3X0D0P0',\n",
       " '3X0N0R0',\n",
       " '3Y0P0U0',\n",
       " '3Y0T0E0',\n",
       " '3Z0P0V0']"
      ]
     },
     "execution_count": 4,
     "metadata": {},
     "output_type": "execute_result"
    }
   ],
   "source": [
    "#List load shortnames of SYNTHETIC subset with 3 appliances\n",
    "lit.list_loads(subset=lit.Subset.SYNTHETIC, n_appliances=3)"
   ]
  },
  {
   "cell_type": "code",
   "execution_count": 5,
   "metadata": {},
   "outputs": [
    {
     "data": {
      "text/plain": [
       "['8D0G0P0Q0M0N0H0E0',\n",
       " '8D0M0S0G0H0N0R0E0',\n",
       " '8E0P0I0M0N0H0W0Y0',\n",
       " '8I0E0H0D0M0N0U0Z0',\n",
       " '8Q0H0N0M0P0E0I0V0',\n",
       " '8X0E0H0I0M0P0N0D0']"
      ]
     },
     "execution_count": 5,
     "metadata": {},
     "output_type": "execute_result"
    }
   ],
   "source": [
    "#List load shortnames of SYNTHETIC subset with 8 appliances\n",
    "lit.list_loads(subset=lit.Subset.SYNTHETIC, n_appliances=8)"
   ]
  },
  {
   "cell_type": "markdown",
   "metadata": {},
   "source": [
    "## Waveform files\n",
    "After the matlab preprocessing, you can get all the waveforms filenames of a load in the dataset. Just use the list_waveforms function specifying the subset and the load shortname."
   ]
  },
  {
   "cell_type": "code",
   "execution_count": 6,
   "metadata": {},
   "outputs": [
    {
     "name": "stdout",
     "output_type": "stream",
     "text": [
      "waveform_files: ['Waveform10000.mat', 'Waveform10001.mat', 'Waveform10002.mat', 'Waveform10003.mat', 'Waveform10004.mat', 'Waveform10005.mat', 'Waveform10006.mat', 'Waveform10007.mat', 'Waveform10008.mat', 'Waveform10009.mat', 'Waveform10010.mat', 'Waveform10011.mat', 'Waveform10012.mat', 'Waveform10013.mat', 'Waveform10014.mat', 'Waveform10015.mat'] \n",
      "\n",
      "root: LIT_Dataset/Matlab_Data/Synthetic/1/1A0\n"
     ]
    }
   ],
   "source": [
    "waveform_files, root = lit.list_waveforms(subset=lit.Subset.SYNTHETIC, shortname='1A0')\n",
    "\n",
    "#Print content of waveform_files and root\n",
    "print('waveform_files:', waveform_files, '\\n')\n",
    "print('root:', root)"
   ]
  },
  {
   "cell_type": "markdown",
   "metadata": {},
   "source": [
    "## Loading waveform file\n",
    "You can load data from a mat file of the dataset lit (obviously, only after pre-processing Matlab scripts). To do this, instantiate the *Waveform* class setting the *mat_path* parameter as the path to the mat file to be loaded."
   ]
  },
  {
   "cell_type": "code",
   "execution_count": 7,
   "metadata": {},
   "outputs": [
    {
     "name": "stdout",
     "output_type": "stream",
     "text": [
      "shortname: 1A0\n",
      "description: Microwave, Consul 17 liters CMS18BBHNA,127V 1200W - standby 4.5W\n",
      "frequency: 60\n",
      "duration: 30\n",
      "sample rate: 15384\n"
     ]
    }
   ],
   "source": [
    "from os.path import join\n",
    "\n",
    "waveform_filename = join(root, waveform_files[0])  #'LIT_Dataset/Matlab_Data/Synthetic/1/1A0/Waveform10000.mat'\n",
    "\n",
    "waveform_obj = lit.Waveform(mat_path=waveform_filename)\n",
    "\n",
    "print('shortname:', waveform_obj.load_short_name)\n",
    "print('description:', waveform_obj.load_description)\n",
    "print('frequency:', waveform_obj.frequency)\n",
    "print('duration:', waveform_obj.duration)\n",
    "print('sample rate:', waveform_obj.sample_rate)"
   ]
  },
  {
   "cell_type": "markdown",
   "metadata": {},
   "source": [
    "## Getting the current signal\n",
    "\n",
    "The *current* attibute of the Waveform object has the entire current signal."
   ]
  },
  {
   "cell_type": "code",
   "execution_count": 8,
   "metadata": {},
   "outputs": [
    {
     "data": {
      "image/png": "[encoded data removed]",
      "text/plain": [
       "<Figure size 432x288 with 1 Axes>"
      ]
     },
     "metadata": {
      "needs_background": "light"
     },
     "output_type": "display_data"
    }
   ],
   "source": [
    "plt.plot(waveform_obj.current) #plot entire current\n",
    "plt.show()"
   ]
  },
  {
   "cell_type": "markdown",
   "metadata": {},
   "source": [
    "Note that in this entire current signal, there is a period before the appliance is turned on and another after the appliance is turned off.\n",
    "\n",
    "To obtain the indices on this signal where each appliance is turned on, use the *get_turnon_indexes* method. This will return a list of tuples in the format (index, appliance_shortname)."
   ]
  },
  {
   "cell_type": "code",
   "execution_count": 9,
   "metadata": {},
   "outputs": [
    {
     "data": {
      "text/plain": [
       "[(30993, 'A0')]"
      ]
     },
     "execution_count": 9,
     "metadata": {},
     "output_type": "execute_result"
    }
   ],
   "source": [
    "waveform_obj.get_turnon_indexes()"
   ]
  },
  {
   "cell_type": "markdown",
   "metadata": {},
   "source": [
    "To obtain the indices on this signal where each appliance is turned off, use the *get_turnoff_indexes* method. This will return a list of tuples in the same format."
   ]
  },
  {
   "cell_type": "code",
   "execution_count": 10,
   "metadata": {},
   "outputs": [
    {
     "data": {
      "text/plain": [
       "[(261984, 'A0')]"
      ]
     },
     "execution_count": 10,
     "metadata": {},
     "output_type": "execute_result"
    }
   ],
   "source": [
    "waveform_obj.get_turnoff_indexes()"
   ]
  },
  {
   "cell_type": "markdown",
   "metadata": {},
   "source": [
    "To obtain only the current of all appliances turned on, use the *get_turnedon_current* method."
   ]
  },
  {
   "cell_type": "code",
   "execution_count": 11,
   "metadata": {},
   "outputs": [
    {
     "data": {
      "image/png": "[encoded data removed]",
      "text/plain": [
       "<Figure size 432x288 with 1 Axes>"
      ]
     },
     "metadata": {
      "needs_background": "light"
     },
     "output_type": "display_data"
    }
   ],
   "source": [
    "plt.plot( waveform_obj.get_turnedon_current() ) #plot the current between turning-on and turning-off\n",
    "plt.show()"
   ]
  },
  {
   "cell_type": "code",
   "execution_count": 12,
   "metadata": {},
   "outputs": [
    {
     "data": {
      "image/png": "[encoded data removed]",
      "text/plain": [
       "<Figure size 432x288 with 1 Axes>"
      ]
     },
     "metadata": {
      "needs_background": "light"
     },
     "output_type": "display_data"
    }
   ],
   "source": [
    "plt.plot( waveform_obj.get_turnedon_current()[0:1000] ) #plot the turnedon current between the samples 0 and 1000\n",
    "plt.show()"
   ]
  },
  {
   "cell_type": "markdown",
   "metadata": {},
   "source": [
    "## Getting voltage signal\n",
    "\n",
    "The *voltage* attribute of the Waveform object has the voltage signal."
   ]
  },
  {
   "cell_type": "code",
   "execution_count": 13,
   "metadata": {},
   "outputs": [
    {
     "data": {
      "image/png": "[encoded data removed]",
      "text/plain": [
       "<Figure size 432x288 with 1 Axes>"
      ]
     },
     "metadata": {
      "needs_background": "light"
     },
     "output_type": "display_data"
    }
   ],
   "source": [
    "plt.plot(waveform_obj.voltage) #plot entire voltage\n",
    "plt.show()"
   ]
  },
  {
   "cell_type": "markdown",
   "metadata": {},
   "source": [
    "To get only the voltage signal with all appliances turned on, use the *get_turnedon_voltage* method."
   ]
  },
  {
   "cell_type": "code",
   "execution_count": 14,
   "metadata": {},
   "outputs": [
    {
     "data": {
      "image/png": "[encoded data removed]",
      "text/plain": [
       "<Figure size 432x288 with 1 Axes>"
      ]
     },
     "metadata": {
      "needs_background": "light"
     },
     "output_type": "display_data"
    }
   ],
   "source": [
    "plt.plot(waveform_obj.get_turnedon_voltage()) #plot the voltage between turning-on and turning-off\n",
    "plt.show()"
   ]
  },
  {
   "cell_type": "code",
   "execution_count": 15,
   "metadata": {},
   "outputs": [
    {
     "data": {
      "image/png": "[encoded data removed]",
      "text/plain": [
       "<Figure size 432x288 with 1 Axes>"
      ]
     },
     "metadata": {
      "needs_background": "light"
     },
     "output_type": "display_data"
    }
   ],
   "source": [
    "plt.plot(waveform_obj.get_turnedon_voltage()[0:1000]) #plot the turnedon voltage between the samples 0 and 1000\n",
    "plt.show()"
   ]
  }
 ],
 "metadata": {
  "kernelspec": {
   "display_name": "Python 3",
   "language": "python",
   "name": "python3"
  },
  "language_info": {
   "codemirror_mode": {
    "name": "ipython",
    "version": 3
   },
   "file_extension": ".py",
   "mimetype": "text/x-python",
   "name": "python",
   "nbconvert_exporter": "python",
   "pygments_lexer": "ipython3",
   "version": "3.7.6"
  }
 },
 "nbformat": 4,
 "nbformat_minor": 4
}
